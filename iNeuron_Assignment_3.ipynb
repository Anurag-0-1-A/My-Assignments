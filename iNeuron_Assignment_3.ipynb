{
  "nbformat": 4,
  "nbformat_minor": 0,
  "metadata": {
    "colab": {
      "name": "iNeuron Assignment-3",
      "provenance": [],
      "collapsed_sections": [],
      "authorship_tag": "ABX9TyPzV8ik9dcCzm8QpJe6RMYS",
      "include_colab_link": true
    },
    "kernelspec": {
      "name": "python3",
      "display_name": "Python 3"
    }
  },
  "cells": [
    {
      "cell_type": "markdown",
      "metadata": {
        "id": "view-in-github",
        "colab_type": "text"
      },
      "source": [
        "<a href=\"https://colab.research.google.com/github/Anurag-0-1-A/My-Assignments/blob/master/iNeuron_Assignment_3.ipynb\" target=\"_parent\"><img src=\"https://colab.research.google.com/assets/colab-badge.svg\" alt=\"Open In Colab\"/></a>"
      ]
    },
    {
      "cell_type": "markdown",
      "metadata": {
        "id": "dDfJzRTHskjk",
        "colab_type": "text"
      },
      "source": [
        "**1.1 Write a Python Program to implement your own myreduce() function which works exactly\n",
        "like Python's built-in function reduce()**"
      ]
    },
    {
      "cell_type": "code",
      "metadata": {
        "id": "rjv0X8e-rxqO",
        "colab_type": "code",
        "outputId": "8c52e7f0-fd2e-4f8c-ddbc-4330ee77d7db",
        "colab": {
          "base_uri": "https://localhost:8080/",
          "height": 50
        }
      },
      "source": [
        "def myreduce(fun, alist):\n",
        "    x = alist[0]\n",
        "    \n",
        "    for i in range(1, len(alist)):\n",
        "        x = fun(x, alist[i])\n",
        "    \n",
        "    return x\n",
        "\n",
        "def summ(x1, x2):\n",
        "    return x1 + x2\n",
        "\n",
        "def Product(x1, x2):\n",
        "    return(x1 * x2)\n",
        "\n",
        "a = [1, 2, 3, 4, 5]\n",
        "\n",
        "print(\"Sum of all element in list a :\", myreduce(summ, a))\n",
        "print(\"Product of all elements in list a :\", myreduce(Product, a))"
      ],
      "execution_count": 3,
      "outputs": [
        {
          "output_type": "stream",
          "text": [
            "Sum of all element in list a : 15\n",
            "Product of all elements in list a : 120\n"
          ],
          "name": "stdout"
        }
      ]
    },
    {
      "cell_type": "markdown",
      "metadata": {
        "id": "wicyQ7LUwLQJ",
        "colab_type": "text"
      },
      "source": [
        "**1.2 Write a Python program to implement your own myfilter() function which works exactly\n",
        "like Python's built-in function filter()**"
      ]
    },
    {
      "cell_type": "code",
      "metadata": {
        "id": "G6c55-qMd7CQ",
        "colab_type": "code",
        "colab": {
          "base_uri": "https://localhost:8080/",
          "height": 50
        },
        "outputId": "727bb85c-6815-41f5-eed3-a20f53f230e3"
      },
      "source": [
        "def myfilter(fun, alist):\n",
        "    x = []\n",
        "    y = []\n",
        "    \n",
        "    for i in alist:\n",
        "        x.append(fun(i))\n",
        "    \n",
        "    for i in range(0, len(x)):\n",
        "        \n",
        "        if x[i] == False:\n",
        "            continue\n",
        "        \n",
        "        else:\n",
        "            y.append(x[i])\n",
        "    \n",
        "    return y\n",
        "        \n",
        "def multiple_five(i):\n",
        "    \n",
        "    if i%5==0:\n",
        "        return i\n",
        "    \n",
        "    else:\n",
        "        return False\n",
        "\n",
        "def odd_number(i):\n",
        "    if i%2 == 1:\n",
        "        return i\n",
        "    else:\n",
        "        return False\n",
        "\n",
        "print(myfilter(multiple_five, [2, 5, 6, 4, 10, 15, 12, 35, 124, 120]))\n",
        "print(myfilter(odd_number,[1, 2, 3, 4, 5, 6, 7, 8, 9, 10]))"
      ],
      "execution_count": 4,
      "outputs": [
        {
          "output_type": "stream",
          "text": [
            "[5, 10, 15, 35, 120]\n",
            "[1, 3, 5, 7, 9]\n"
          ],
          "name": "stdout"
        }
      ]
    },
    {
      "cell_type": "markdown",
      "metadata": {
        "id": "GZSP2RPZyULJ",
        "colab_type": "text"
      },
      "source": [
        "**2. Implement List comprehensions to produce the following lists.\n",
        "Write List comprehensions to produce the following Lists**\n",
        "\n",
        "\n",
        "['x', 'xx', 'xxx', 'xxxx', 'y', 'yy', 'yyy', 'yyyy', 'z', 'zz', 'zzz', 'zzzz']\n",
        "\n",
        "['x', 'y', 'z', 'xx', 'yy', 'zz', 'xxx', 'yyy', 'zzz', 'xxxx', 'yyyy', 'zzzz']\n",
        "\n",
        "[[2], [3], [4], [3], [4], [5], [4], [5], [6]]\n",
        "\n",
        "[[2, 3, 4, 5], [3, 4, 5, 6],[4, 5, 6, 7], [5, 6, 7, 8]]\n",
        "\n",
        "[(1, 1), (2, 1), (3, 1), (1, 2), (2, 2), (3, 2), (1, 3), (2, 3), (3, 3)]"
      ]
    },
    {
      "cell_type": "code",
      "metadata": {
        "id": "83zCJOadrSW-",
        "colab_type": "code",
        "outputId": "f5d49419-fcce-4fbd-909b-f9ea09138ca9",
        "colab": {
          "base_uri": "https://localhost:8080/",
          "height": 34
        }
      },
      "source": [
        "nlist=[]\n",
        "mlist=['x','y','z']\n",
        "nlist=[ i*j for i in mlist for j in range(1,5)]\n",
        "print(nlist)      "
      ],
      "execution_count": 5,
      "outputs": [
        {
          "output_type": "stream",
          "text": [
            "['x', 'xx', 'xxx', 'xxxx', 'y', 'yy', 'yyy', 'yyyy', 'z', 'zz', 'zzz', 'zzzz']\n"
          ],
          "name": "stdout"
        }
      ]
    },
    {
      "cell_type": "code",
      "metadata": {
        "id": "7Ft2hdX8snqz",
        "colab_type": "code",
        "outputId": "52d173f1-152d-4fdf-868a-e8ea5d7a5f26",
        "colab": {
          "base_uri": "https://localhost:8080/",
          "height": 34
        }
      },
      "source": [
        "nlist=[]\n",
        "mlist=['x','y','z']\n",
        "nlist=[j*i for i in range(1,5) for j in mlist]\n",
        "print(nlist)  "
      ],
      "execution_count": 6,
      "outputs": [
        {
          "output_type": "stream",
          "text": [
            "['x', 'y', 'z', 'xx', 'yy', 'zz', 'xxx', 'yyy', 'zzz', 'xxxx', 'yyyy', 'zzzz']\n"
          ],
          "name": "stdout"
        }
      ]
    },
    {
      "cell_type": "code",
      "metadata": {
        "id": "Lcwf3ml34nqe",
        "colab_type": "code",
        "outputId": "c282a001-a986-4b50-b173-762d0f1b0dd0",
        "colab": {
          "base_uri": "https://localhost:8080/",
          "height": 34
        }
      },
      "source": [
        "nlist = [[i+j] for i in range(2,5) for j in range(3)]\n",
        "nlist"
      ],
      "execution_count": 7,
      "outputs": [
        {
          "output_type": "execute_result",
          "data": {
            "text/plain": [
              "[[2], [3], [4], [3], [4], [5], [4], [5], [6]]"
            ]
          },
          "metadata": {
            "tags": []
          },
          "execution_count": 7
        }
      ]
    },
    {
      "cell_type": "code",
      "metadata": {
        "id": "HDO6ySqm0WXi",
        "colab_type": "code",
        "outputId": "f2eabbd7-1626-41b2-f853-e88b7ec01c54",
        "colab": {
          "base_uri": "https://localhost:8080/",
          "height": 34
        }
      },
      "source": [
        "ylist=[[(i+j)for j in range(0,4)] for i in range(2,6)]\n",
        "ylist"
      ],
      "execution_count": 8,
      "outputs": [
        {
          "output_type": "execute_result",
          "data": {
            "text/plain": [
              "[[2, 3, 4, 5], [3, 4, 5, 6], [4, 5, 6, 7], [5, 6, 7, 8]]"
            ]
          },
          "metadata": {
            "tags": []
          },
          "execution_count": 8
        }
      ]
    },
    {
      "cell_type": "code",
      "metadata": {
        "id": "UDU6PIJEr9LJ",
        "colab_type": "code",
        "outputId": "91b29fa5-18e7-4c92-953f-224702e8e5c4",
        "colab": {
          "base_uri": "https://localhost:8080/",
          "height": 34
        }
      },
      "source": [
        "xlist=[(j,i) for i in range(1,4) for j in range(1,4)]\n",
        "xlist"
      ],
      "execution_count": 9,
      "outputs": [
        {
          "output_type": "execute_result",
          "data": {
            "text/plain": [
              "[(1, 1), (2, 1), (3, 1), (1, 2), (2, 2), (3, 2), (1, 3), (2, 3), (3, 3)]"
            ]
          },
          "metadata": {
            "tags": []
          },
          "execution_count": 9
        }
      ]
    },
    {
      "cell_type": "code",
      "metadata": {
        "id": "D-DAm1FCx50w",
        "colab_type": "code",
        "colab": {
          "base_uri": "https://localhost:8080/",
          "height": 54
        },
        "outputId": "07961956-cfb5-4e31-b8c2-ce1fdeec724e"
      },
      "source": [
        "'''nlist=[]\n",
        "mlist=['x','y','z']\n",
        "def multi(mlist):\n",
        "  for i in mlist:\n",
        "    for j in range(1,5):\n",
        "      nlist.append(i*j)\n",
        "  print(nlist)'''\n",
        "  "
      ],
      "execution_count": 10,
      "outputs": [
        {
          "output_type": "execute_result",
          "data": {
            "text/plain": [
              "\"nlist=[]\\nmlist=['x','y','z']\\ndef multi(mlist):\\n  for i in mlist:\\n    for j in range(1,5):\\n      nlist.append(i*j)\\n  print(nlist)\""
            ]
          },
          "metadata": {
            "tags": []
          },
          "execution_count": 10
        }
      ]
    },
    {
      "cell_type": "code",
      "metadata": {
        "id": "z7vNjJOv5s3p",
        "colab_type": "code",
        "outputId": "1354867e-a82a-43e5-a39a-ef94e3eb6f05",
        "colab": {
          "base_uri": "https://localhost:8080/",
          "height": 34
        }
      },
      "source": [
        "'''multi(mlist)'''"
      ],
      "execution_count": 11,
      "outputs": [
        {
          "output_type": "execute_result",
          "data": {
            "text/plain": [
              "'multi(mlist)'"
            ]
          },
          "metadata": {
            "tags": []
          },
          "execution_count": 11
        }
      ]
    },
    {
      "cell_type": "code",
      "metadata": {
        "id": "2fxJNJiLog0R",
        "colab_type": "code",
        "colab": {
          "base_uri": "https://localhost:8080/",
          "height": 54
        },
        "outputId": "47948fd8-d759-4ed7-fd06-0305dc0ce2bf"
      },
      "source": [
        "'''nlist=[]\n",
        "mlist=['x','y','z']\n",
        "def multi2(mlist):\n",
        "  for i in range(1,5):\n",
        "    for j in mlist:\n",
        "    \n",
        "      nlist.append(j*i)\n",
        "\n",
        "  print(nlist)'''\n"
      ],
      "execution_count": 12,
      "outputs": [
        {
          "output_type": "execute_result",
          "data": {
            "text/plain": [
              "\"nlist=[]\\nmlist=['x','y','z']\\ndef multi2(mlist):\\n  for i in range(1,5):\\n    for j in mlist:\\n    \\n      nlist.append(j*i)\\n\\n  print(nlist)\""
            ]
          },
          "metadata": {
            "tags": []
          },
          "execution_count": 12
        }
      ]
    },
    {
      "cell_type": "code",
      "metadata": {
        "id": "riXoHPmAi0w5",
        "colab_type": "code",
        "outputId": "0a114ddf-e59a-4d7f-bee7-234aa58f3673",
        "colab": {
          "base_uri": "https://localhost:8080/",
          "height": 34
        }
      },
      "source": [
        "'''multi2(mlist)'''\n"
      ],
      "execution_count": 13,
      "outputs": [
        {
          "output_type": "execute_result",
          "data": {
            "text/plain": [
              "'multi2(mlist)'"
            ]
          },
          "metadata": {
            "tags": []
          },
          "execution_count": 13
        }
      ]
    },
    {
      "cell_type": "code",
      "metadata": {
        "id": "1InAjYxypfuT",
        "colab_type": "code",
        "outputId": "f4befea9-ffd5-4a81-f0e8-c58d3bdc34a1",
        "colab": {
          "base_uri": "https://localhost:8080/",
          "height": 34
        }
      },
      "source": [
        "#mlist=[1,2,3,4,5,6]\n",
        "#mlist[0:3:]\n",
        "'''\n",
        "for i in range(2,5):\n",
        "  for j in range(3):\n",
        "    print([i+j])\n",
        "'''  \n",
        "#mlist[1:4:]\n",
        "#mlist[2:5:]\n",
        "    \n"
      ],
      "execution_count": 14,
      "outputs": [
        {
          "output_type": "execute_result",
          "data": {
            "text/plain": [
              "'\\nfor i in range(2,5):\\n  for j in range(3):\\n    print([i+j])\\n'"
            ]
          },
          "metadata": {
            "tags": []
          },
          "execution_count": 14
        }
      ]
    },
    {
      "cell_type": "code",
      "metadata": {
        "id": "yVMTl7ldzh5a",
        "colab_type": "code",
        "outputId": "65e42c88-7dde-4635-89d0-4210d61a95ab",
        "colab": {
          "base_uri": "https://localhost:8080/",
          "height": 54
        }
      },
      "source": [
        "#1,2,3,4,5,6,7,8\n",
        "'''xlist=[]\n",
        "ylist=[]\n",
        "for i in range(2,6):\n",
        "  for j in range(0,4):\n",
        "    xlist.append(i+j)\n",
        "  ylist.append(xlist)\n",
        "  xlist=[]\n",
        "  \n",
        "ylist\n",
        "'''  "
      ],
      "execution_count": 15,
      "outputs": [
        {
          "output_type": "execute_result",
          "data": {
            "text/plain": [
              "'xlist=[]\\nylist=[]\\nfor i in range(2,6):\\n  for j in range(0,4):\\n    xlist.append(i+j)\\n  ylist.append(xlist)\\n  xlist=[]\\n  \\nylist\\n'"
            ]
          },
          "metadata": {
            "tags": []
          },
          "execution_count": 15
        }
      ]
    },
    {
      "cell_type": "code",
      "metadata": {
        "id": "LgNsBu7VttPU",
        "colab_type": "code",
        "colab": {}
      },
      "source": [
        ""
      ],
      "execution_count": 0,
      "outputs": []
    },
    {
      "cell_type": "code",
      "metadata": {
        "id": "8UEm9p_S6uX7",
        "colab_type": "code",
        "colab": {}
      },
      "source": [
        ""
      ],
      "execution_count": 0,
      "outputs": []
    },
    {
      "cell_type": "code",
      "metadata": {
        "id": "4JavMcHo9cAy",
        "colab_type": "code",
        "colab": {}
      },
      "source": [
        ""
      ],
      "execution_count": 0,
      "outputs": []
    }
  ]
}