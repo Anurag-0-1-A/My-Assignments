{
  "nbformat": 4,
  "nbformat_minor": 0,
  "metadata": {
    "colab": {
      "name": "iNeuron Assignment-2",
      "provenance": [],
      "collapsed_sections": [],
      "authorship_tag": "ABX9TyNmEEvFaAX2LvOTnWWaBK3o",
      "include_colab_link": true
    },
    "kernelspec": {
      "name": "python3",
      "display_name": "Python 3"
    }
  },
  "cells": [
    {
      "cell_type": "markdown",
      "metadata": {
        "id": "view-in-github",
        "colab_type": "text"
      },
      "source": [
        "<a href=\"https://colab.research.google.com/github/Anurag-0-1-A/My-Assignments/blob/master/iNeuron_Assignment_2.ipynb\" target=\"_parent\"><img src=\"https://colab.research.google.com/assets/colab-badge.svg\" alt=\"Open In Colab\"/></a>"
      ]
    },
    {
      "cell_type": "markdown",
      "metadata": {
        "id": "EtlN6iv0wfG9",
        "colab_type": "text"
      },
      "source": [
        "1. Create the below pattern using nested for loop in Python.\n",
        "\n",
        "```\n",
        "# This is formatted as code\n",
        "*\n",
        "* *\n",
        "* * *\n",
        "* * * *\n",
        "* * * * *\n",
        "* * * *\n",
        "* * *\n",
        "* *\n",
        "*\n",
        "```\n",
        "\n",
        "\n",
        "\n",
        "\n"
      ]
    },
    {
      "cell_type": "code",
      "metadata": {
        "id": "9za02q9ywKLj",
        "colab_type": "code",
        "outputId": "a13ee8c2-6a40-4f06-b605-632bcbc2a5e7",
        "colab": {
          "base_uri": "https://localhost:8080/",
          "height": 168
        }
      },
      "source": [
        "for i in range(1,6):\n",
        "  for j in range(1,i):\n",
        "    print('*',end = \" \")\n",
        "  print('*')\n",
        "for i in range(4,0,-1):\n",
        "  for j in range(i-1,0,-1):\n",
        "    print('*',end = \" \")\n",
        "  print('*')\n",
        "\n"
      ],
      "execution_count": 0,
      "outputs": [
        {
          "output_type": "stream",
          "text": [
            "*\n",
            "* *\n",
            "* * *\n",
            "* * * *\n",
            "* * * * *\n",
            "* * * *\n",
            "* * *\n",
            "* *\n",
            "*\n"
          ],
          "name": "stdout"
        }
      ]
    },
    {
      "cell_type": "markdown",
      "metadata": {
        "id": "dwBYl9wR1iNH",
        "colab_type": "text"
      },
      "source": [
        "**2. Write a Python program to reverse a word after accepting the input from the user.**\n",
        "\n",
        ">Sample Output:\n",
        "\n",
        ">Input word: ineuron\n",
        "\n",
        ">Output: norueni\n"
      ]
    },
    {
      "cell_type": "code",
      "metadata": {
        "id": "gt1H8FAt18WU",
        "colab_type": "code",
        "outputId": "27bed4a5-fd4d-4537-8bb9-3582675a0957",
        "colab": {
          "base_uri": "https://localhost:8080/",
          "height": 67
        }
      },
      "source": [
        "word=input(\"Hey user enter the word !\")\n",
        "print('Input Word : '+ word)\n",
        "print('Output : '+ word[::-1])\n"
      ],
      "execution_count": 0,
      "outputs": [
        {
          "output_type": "stream",
          "text": [
            "Hey user enter the word !Anurag\n",
            "Input Word : Anurag\n",
            "Output : garunA\n"
          ],
          "name": "stdout"
        }
      ]
    }
  ]
}